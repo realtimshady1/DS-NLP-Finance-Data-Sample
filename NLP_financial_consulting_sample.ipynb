{
  "cells": [
    {
      "attachments": {},
      "cell_type": "markdown",
      "id": "dac53875",
      "metadata": {
        "id": "dac53875"
      },
      "source": [
        "# NLP consulting sample\n",
        "\n",
        "#### Author: Timothy Guo"
      ]
    },
    {
      "cell_type": "markdown",
      "id": "wtPhltpXlwcG",
      "metadata": {
        "id": "wtPhltpXlwcG"
      },
      "source": [
        "### Key Work Summary\n",
        "\n",
        "1. No data cleaning is performed\n",
        "2. Whether the words *'to'*, *'from'* are present in **transaction_description** are used to engineer new features\n",
        "3. A Linear Support Vector Classifier is the optimal model selected\n",
        "4. The final model accuracy is 96.3%\n"
      ]
    },
    {
      "cell_type": "markdown",
      "id": "djbDSh75lnpG",
      "metadata": {
        "id": "djbDSh75lnpG"
      },
      "source": [
        "## 0. Setup\n",
        "\n",
        "---"
      ]
    },
    {
      "cell_type": "markdown",
      "id": "T5Lmd0Id02zU",
      "metadata": {
        "id": "T5Lmd0Id02zU"
      },
      "source": [
        "### Versions\n",
        "\n",
        "Numpy: 1.19.5\n",
        "\n",
        "Pandas: 1.1.5\n",
        "\n",
        "Matplotlib: 3.2.2\n",
        "\n",
        "Tqdm: 4.62.3\n",
        "\n",
        "Sklearn: 1.0\n",
        "\n",
        "Xgboost: 0.90"
      ]
    },
    {
      "cell_type": "code",
      "execution_count": null,
      "id": "bfacd2ea",
      "metadata": {
        "id": "bfacd2ea"
      },
      "outputs": [],
      "source": [
        "# Import Libraries\n",
        "import numpy as np\n",
        "import pandas as pd\n",
        "import seaborn as sns\n",
        "import matplotlib.pyplot as plt\n",
        "import matplotlib.patches as mpatches\n",
        "\n",
        "from tqdm.notebook import tqdm\n",
        "from sklearn.feature_extraction.text import CountVectorizer\n",
        "from sklearn.base import TransformerMixin\n",
        "from sklearn.model_selection import train_test_split, cross_val_score, cross_validate, GridSearchCV\n",
        "from sklearn.metrics import confusion_matrix\n",
        "from sklearn.preprocessing import LabelEncoder, OneHotEncoder\n",
        "from sklearn.compose import ColumnTransformer\n",
        "from sklearn.pipeline import Pipeline\n",
        "from sklearn import set_config\n",
        "\n",
        "from sklearn.neighbors import KNeighborsClassifier\n",
        "from sklearn.tree import DecisionTreeClassifier\n",
        "from sklearn.svm import LinearSVC, SVC\n",
        "from sklearn.calibration import CalibratedClassifierCV\n",
        "from sklearn.linear_model import LogisticRegression\n",
        "from sklearn.ensemble import RandomForestClassifier\n",
        "from sklearn.neural_network import MLPClassifier\n",
        "from xgboost import XGBClassifier"
      ]
    },
    {
      "cell_type": "code",
      "execution_count": null,
      "id": "Lr03ygb5CD8t",
      "metadata": {
        "id": "Lr03ygb5CD8t"
      },
      "outputs": [],
      "source": [
        "pd.set_option('display.max_colwidth', None)\n",
        "set_config(display='diagram')"
      ]
    },
    {
      "cell_type": "code",
      "execution_count": null,
      "id": "42b0a1b6",
      "metadata": {
        "id": "42b0a1b6"
      },
      "outputs": [],
      "source": [
        "FILE_NAME = 'data_sample.csv'\n",
        "\n",
        "df = pd.read_csv(FILE_NAME)"
      ]
    },
    {
      "cell_type": "markdown",
      "id": "e67f2e26",
      "metadata": {
        "id": "e67f2e26"
      },
      "source": [
        "## 1. Inspect Data\n",
        "---"
      ]
    },
    {
      "cell_type": "code",
      "execution_count": null,
      "id": "73bdc9d1",
      "metadata": {
        "colab": {
          "base_uri": "https://localhost:8080/"
        },
        "collapsed": true,
        "id": "73bdc9d1",
        "outputId": "176d4315-7408-4a66-e4ca-4ecc332c9c60"
      },
      "outputs": [
        {
          "name": "stdout",
          "output_type": "stream",
          "text": [
            "Number of data samples: 410\n",
            "Number of data features: 6\n"
          ]
        }
      ],
      "source": [
        "print(f'Number of data samples: {df.shape[0]}')\n",
        "print(f'Number of data features: {df.shape[1]}')"
      ]
    },
    {
      "cell_type": "code",
      "execution_count": null,
      "id": "5257b593",
      "metadata": {
        "colab": {
          "base_uri": "https://localhost:8080/"
        },
        "collapsed": true,
        "id": "5257b593",
        "outputId": "fdaefbd9-8279-477a-81a6-fd69ced9c9ec",
        "scrolled": false
      },
      "outputs": [
        {
          "name": "stdout",
          "output_type": "stream",
          "text": [
            "Check for missing values.\n",
            "\n",
            "transaction_description     0\n",
            "transaction_amount          0\n",
            "transaction_account_type    0\n",
            "transaction_class           0\n",
            "description_cleaned         0\n",
            "transaction_type            0\n",
            "dtype: int64\n"
          ]
        }
      ],
      "source": [
        "print('Check for missing values.\\n')\n",
        "print(df.isnull().sum())"
      ]
    },
    {
      "cell_type": "code",
      "execution_count": null,
      "id": "6d27bf68",
      "metadata": {
        "colab": {
          "base_uri": "https://localhost:8080/"
        },
        "collapsed": true,
        "id": "6d27bf68",
        "outputId": "7f96cbb8-dddd-4e53-80db-a7dafb9b9bdc"
      },
      "outputs": [
        {
          "name": "stdout",
          "output_type": "stream",
          "text": [
            "Check data types.\n",
            "\n",
            "transaction_description      object\n",
            "transaction_amount          float64\n",
            "transaction_account_type     object\n",
            "transaction_class            object\n",
            "description_cleaned          object\n",
            "transaction_type             object\n",
            "dtype: object\n"
          ]
        }
      ],
      "source": [
        "print('Check data types.\\n')\n",
        "print(df.dtypes)"
      ]
    },
    {
      "cell_type": "code",
      "execution_count": null,
      "id": "26215ead",
      "metadata": {
        "colab": {
          "base_uri": "https://localhost:8080/"
        },
        "collapsed": true,
        "id": "26215ead",
        "outputId": "a890b759-313b-41f4-b03e-b53d322b980b"
      },
      "outputs": [
        {
          "name": "stdout",
          "output_type": "stream",
          "text": [
            "Check class categories.\n",
            "\n",
            "transaction_description     408\n",
            "transaction_amount          266\n",
            "transaction_account_type      6\n",
            "transaction_class             6\n",
            "description_cleaned         337\n",
            "transaction_type              2\n",
            "dtype: int64\n"
          ]
        }
      ],
      "source": [
        "print('Check class categories.\\n')\n",
        "print(df.nunique())"
      ]
    },
    {
      "cell_type": "markdown",
      "id": "b0cf5663",
      "metadata": {
        "id": "b0cf5663"
      },
      "source": [
        "### 1.1 Summary\n",
        "\n",
        "From the preceeding inspection, we can conclude the following:\n",
        "- There are no missing values\n",
        "- The columns are correctly formatted\n",
        "\n",
        "We have also made an assumption that there are no outliers in the dataset. This is because the dataset we have been given has already been cleaned and any 'outlier' would have been cleaned at an earlier stage. Thus any outlier removal should not be performed here.\n",
        "\n",
        "We can procede with our analysis without any cleaning needed.\n"
      ]
    },
    {
      "cell_type": "markdown",
      "id": "a09c1146",
      "metadata": {
        "id": "a09c1146"
      },
      "source": [
        "## 2. Data Profile \n",
        "\n",
        "---\n"
      ]
    },
    {
      "cell_type": "code",
      "execution_count": null,
      "id": "EpjyfhTJlOFt",
      "metadata": {
        "colab": {
          "base_uri": "https://localhost:8080/",
          "height": 487
        },
        "id": "EpjyfhTJlOFt",
        "outputId": "1d200efb-4d38-4368-cf32-dce2f53d30b4"
      },
      "outputs": [
        {
          "data": {
            "image/png": "[encoded data removed]",
            "text/plain": [
              "<Figure size 576x576 with 1 Axes>"
            ]
          },
          "metadata": {},
          "output_type": "display_data"
        }
      ],
      "source": [
        "# Plot Transaction Type class constitution\n",
        "plt.figure(figsize=(8, 8))\n",
        "type_count = df.transaction_type.value_counts()\n",
        "plt.pie(type_count, labels=type_count.index, colors=sns.color_palette(), autopct='%.1f%%', explode=[0,.1])\n",
        "plt.title(\"Transaction Types\", fontsize=20)\n",
        "plt.show()"
      ]
    },
    {
      "cell_type": "code",
      "execution_count": null,
      "id": "43de14a4",
      "metadata": {
        "colab": {
          "base_uri": "https://localhost:8080/",
          "height": 795
        },
        "id": "43de14a4",
        "outputId": "78a4d21d-9d30-4c05-c7b4-9bd417641c1d"
      },
      "outputs": [
        {
          "data": {
            "image/png": "[encoded data removed]",
            "text/plain": [
              "<Figure size 1440x432 with 1 Axes>"
            ]
          },
          "metadata": {
            "needs_background": "light"
          },
          "output_type": "display_data"
        },
        {
          "data": {
            "image/png": "[encoded data removed]",
            "text/plain": [
              "<Figure size 1440x432 with 1 Axes>"
            ]
          },
          "metadata": {
            "needs_background": "light"
          },
          "output_type": "display_data"
        }
      ],
      "source": [
        "# Compare Transaction Types for different Transaction Account Type categories\n",
        "plt.figure(figsize=(20, 6))\n",
        "order = df.transaction_account_type.value_counts().sort_values(ascending=False).index\n",
        "sns.countplot(x='transaction_account_type', data=df, hue='transaction_type', linewidth=3, order=order, alpha=0.8)\n",
        "plt.title(\"Transaction Account Type Distribution\", fontsize=14)\n",
        "plt.show()\n",
        "\n",
        "# Compare Transaction Types for different Transaction Class categories\n",
        "plt.figure(figsize=(20, 6))\n",
        "order = df.transaction_class.value_counts().sort_values(ascending=False).index\n",
        "sns.countplot(x='transaction_class', hue='transaction_type', data=df, linewidth=3, order=order, alpha=0.8)\n",
        "plt.title(\"Transaction Class Distribution\", fontsize=14)\n",
        "plt.show()"
      ]
    },
    {
      "cell_type": "code",
      "execution_count": null,
      "id": "ZBnG2YNM61KY",
      "metadata": {
        "colab": {
          "base_uri": "https://localhost:8080/",
          "height": 802
        },
        "id": "ZBnG2YNM61KY",
        "outputId": "4ccc69f4-c859-4bc4-95bb-912c0ecf322a"
      },
      "outputs": [
        {
          "data": {
            "image/png": "[encoded data removed]",
            "text/plain": [
              "<Figure size 1728x864 with 2 Axes>"
            ]
          },
          "metadata": {
            "needs_background": "light"
          },
          "output_type": "display_data"
        }
      ],
      "source": [
        "# Compare Transaction Types for different Transaction Amount values\n",
        "fig, ax = plt.subplots(2, 1, figsize=(24, 12), sharex=True)\n",
        "plt.suptitle(\"Transaction Amount Comparison\", fontsize=18)\n",
        "sns.histplot(data=df, x='transaction_amount', y='transaction_type', hue='transaction_type', ax=ax[0])\n",
        "sns.boxenplot(data=df, x='transaction_amount', ax=ax[1], color=sns.color_palette()[2])\n",
        "plt.show()"
      ]
    },
    {
      "cell_type": "code",
      "execution_count": null,
      "id": "C7AHjlPWwyop",
      "metadata": {
        "id": "C7AHjlPWwyop"
      },
      "outputs": [],
      "source": [
        "def get_missing_words(corpus, guide, n=15):\n",
        "    \"\"\"\n",
        "    List the top n words in a corpus that are not present in a guide\n",
        "    \"\"\"\n",
        "    guide_vec = CountVectorizer().fit(guide)\n",
        "    guide_words = guide_vec.vocabulary_.keys()\n",
        "    vec = CountVectorizer().fit(corpus)\n",
        "    bag_of_words = vec.transform(corpus)\n",
        "    sum_words = bag_of_words.sum(axis=0) \n",
        "    words_freq = [(word, sum_words[0, idx]) for word, idx in vec.vocabulary_.items() if word not in guide_words]\n",
        "    words_freq = sorted(words_freq, key=lambda x: x[1], reverse=True)\n",
        "\n",
        "    return words_freq[:n]"
      ]
    },
    {
      "cell_type": "code",
      "execution_count": null,
      "id": "Aq4Kt2xe1KgQ",
      "metadata": {
        "id": "Aq4Kt2xe1KgQ"
      },
      "outputs": [],
      "source": [
        "# Find the top unique cleaned description word in each transaction type\n",
        "credit_df = df[df.transaction_type=='credit'].description_cleaned\n",
        "debit_df = df[df.transaction_type=='debit'].description_cleaned\n",
        "\n",
        "unique_credit_words = get_missing_words(credit_df, debit_df)\n",
        "unique_debit_words = get_missing_words(debit_df, credit_df)\n",
        "\n",
        "unique_credit_df = pd.DataFrame(unique_credit_words, columns=['Word','Count'])\n",
        "unique_debit_df = pd.DataFrame(unique_debit_words, columns=['Word','Count'])"
      ]
    },
    {
      "cell_type": "code",
      "execution_count": null,
      "id": "5VZcraVk1a5E",
      "metadata": {
        "colab": {
          "base_uri": "https://localhost:8080/",
          "height": 731
        },
        "id": "5VZcraVk1a5E",
        "outputId": "72544553-4381-47d0-fc6a-242cdb167229"
      },
      "outputs": [
        {
          "data": {
            "image/png": "[encoded data removed]",
            "text/plain": [
              "<Figure size 1728x864 with 2 Axes>"
            ]
          },
          "metadata": {
            "needs_background": "light"
          },
          "output_type": "display_data"
        }
      ],
      "source": [
        "fig, (ax0, ax1) = plt.subplots(2, 1, figsize=(24,12))\n",
        "sns.barplot(data=unique_credit_df, x='Word', y='Count', color=list(sns.color_palette())[0], ax=ax0)\n",
        "ax0.set_title('Cleaned Words in Credit Descriptions absent from Debit Descriptions', fontsize=14)\n",
        "sns.barplot(data=unique_debit_df, x='Word', y='Count', color=list(sns.color_palette())[1], ax=ax1)\n",
        "ax1.set_title('Cleaned Words in Debit Descriptions absent from Credit Descriptions', fontsize=14)\n",
        "plt.ylim(0, 75)\n",
        "fig.show()"
      ]
    },
    {
      "cell_type": "code",
      "execution_count": null,
      "id": "NebWs8ec3Xpf",
      "metadata": {
        "id": "NebWs8ec3Xpf"
      },
      "outputs": [],
      "source": [
        "# Find the top transaction description words missing from the cleaned description\n",
        "credit_description_df = df[df.transaction_type=='credit'].transaction_description\n",
        "debit_description_df = df[df.transaction_type=='debit'].transaction_description\n",
        "\n",
        "missing_credit_words = get_missing_words(credit_description_df, df.description_cleaned)\n",
        "missing_debit_words = get_missing_words(debit_description_df, df.description_cleaned)\n",
        "\n",
        "missing_credit_df = pd.DataFrame(missing_credit_words, columns=['Word','Credit'])\n",
        "missing_debit_df = pd.DataFrame(missing_debit_words, columns=['Word','Debit'])\n",
        "\n",
        "missing_df = pd.merge(missing_credit_df, missing_debit_df, how=\"outer\", on='Word')\n",
        "missing_df['Sum'] = missing_df[['Credit','Debit']].sum(1)\n",
        "missing_df.sort_values('Sum', ascending=False, inplace=True)"
      ]
    },
    {
      "cell_type": "code",
      "execution_count": null,
      "id": "XZQQzT-7bpNF",
      "metadata": {
        "colab": {
          "base_uri": "https://localhost:8080/",
          "height": 734
        },
        "id": "XZQQzT-7bpNF",
        "outputId": "8f1363e5-dcde-4d7b-ac51-7d264fa4aed8"
      },
      "outputs": [
        {
          "data": {
            "image/png": "[encoded data removed]",
            "text/plain": [
              "<Figure size 1728x864 with 1 Axes>"
            ]
          },
          "metadata": {
            "needs_background": "light"
          },
          "output_type": "display_data"
        }
      ],
      "source": [
        "plt.figure(figsize=(24,12))\n",
        "sns.barplot(data=missing_df, x='Word', y='Sum', color=sns.color_palette()[0])\n",
        "sns.barplot(data=missing_df, x='Word', y='Debit', color=sns.color_palette()[1])\n",
        "bar0 = mpatches.Patch(color=sns.color_palette()[0], label='Credit')\n",
        "bar1 = mpatches.Patch(color=sns.color_palette()[1], label='Debit')\n",
        "plt.legend(handles=[bar0, bar1], loc='upper right', fontsize=15)\n",
        "plt.title('Transaction Description Words missing from Cleaned Description', fontsize=18)\n",
        "plt.ylabel('Count')\n",
        "plt.show()"
      ]
    },
    {
      "cell_type": "markdown",
      "id": "iCJseix8g69K",
      "metadata": {
        "id": "iCJseix8g69K"
      },
      "source": [
        "### 2.1 Summary\n",
        "\n",
        "Here are the key findings:\n",
        "\n",
        "- *credit* represents most of the **transaction_type** labels\n",
        "- *term-deposit* and *mortgage* are label unique **transaction_account_type** categories\n",
        "- *payment*, *cash-withdrawal*, *interest*, *refund* and *bank-fee* are label unique **transaction_class** categories \n",
        "- Negative **transaction_amount** are *credit* **transaction_type** and positive **transaction_amount** are *debit* **transaction_type**\n",
        "- The majority of **transaction_amount** are near 0\n",
        "- There are key words found only *credit* **transaction_type** or *debit* **transaction_type**\n",
        "- There are words unique to either *credit* or *debit* **transaction_type** that are missing from **description_cleaned**\n",
        "\n",
        "Actions following this are:\n",
        "\n",
        "1. *Drop transaction amount*: in a real-world application, we should use this as it will give us a 100% accuracy in predicting credit/debit type. However for the sake of the exercise, the transaction amount will be omitted to make this more interesting.\n",
        "2. *Account for dataset imbalance*: use stratified dataset splits to maintain the representation.\n",
        "3. *Engineer new features*: create new features from the **transaction_description** missing from the **cleaned_description**.\n",
        "4. *Generalize the learning process*: the dataset is small so we need to minimise overfitting."
      ]
    },
    {
      "cell_type": "markdown",
      "id": "sz8du3F9mB_W",
      "metadata": {
        "id": "sz8du3F9mB_W"
      },
      "source": [
        "## 3. Feature Engineering\n",
        "---"
      ]
    },
    {
      "cell_type": "code",
      "execution_count": null,
      "id": "1EU300uV-IGN",
      "metadata": {
        "id": "1EU300uV-IGN"
      },
      "outputs": [],
      "source": [
        "class DenseTransformer(TransformerMixin):\n",
        "    '''\n",
        "    Convert a sparse matrix type into a dense representation\n",
        "    '''\n",
        "    def fit(self, X, y=None, **fit_params):\n",
        "        return self\n",
        "        \n",
        "    def transform(self, X, y=None, **fit_params):\n",
        "        return X.toarray()"
      ]
    },
    {
      "cell_type": "code",
      "execution_count": null,
      "id": "ISHOfUbqQnpM",
      "metadata": {
        "id": "ISHOfUbqQnpM"
      },
      "outputs": [],
      "source": [
        "def find_word(word, text):\n",
        "    '''\n",
        "    Search if word is in a string sentence\n",
        "    '''\n",
        "    if word in text.lower().split():\n",
        "        return 1\n",
        "    return 0"
      ]
    },
    {
      "cell_type": "code",
      "execution_count": null,
      "id": "7l5hh01jxw3u",
      "metadata": {
        "id": "7l5hh01jxw3u"
      },
      "outputs": [],
      "source": [
        "# Define pipeline parameters, engineer new features, split dataset\n",
        "SEED = 1\n",
        "TEST_SPLIT = 0.2\n",
        "\n",
        "drop_columns = ['transaction_description', 'transaction_amount', 'transaction_type']\n",
        "X = df.drop(drop_columns, axis=1)\n",
        "y = df.transaction_type\n",
        "\n",
        "missing_words = ['to', 'from']\n",
        "missing_word_cols = []\n",
        "for word in missing_words:\n",
        "    missing_word_cols.append(word + '_present')\n",
        "    X[missing_word_cols[-1]] = df.transaction_description.apply(lambda x: find_word(word, x))\n",
        "\n",
        "X_train, X_test, y_train, y_test = train_test_split(X, y,\n",
        "                                                    test_size=TEST_SPLIT,\n",
        "                                                    stratify=y,\n",
        "                                                    random_state=SEED,\n",
        "                                                    )"
      ]
    },
    {
      "cell_type": "code",
      "execution_count": null,
      "id": "AR0RkhiErwqA",
      "metadata": {
        "id": "AR0RkhiErwqA"
      },
      "outputs": [],
      "source": [
        "# Define and construct preprocessor pipeline stages\n",
        "text_features = 'description_cleaned'\n",
        "type_features = ['transaction_account_type', 'transaction_class']\n",
        "pass_features = missing_word_cols\n",
        "text_transformer = CountVectorizer(binary=True)\n",
        "type_transformer = OneHotEncoder(handle_unknown='ignore')\n",
        "\n",
        "preprocessor = ColumnTransformer(transformers=[('text', text_transformer, text_features),\n",
        "                                               ('type', type_transformer, type_features),\n",
        "                                               ('pass', 'passthrough', pass_features),\n",
        "                                               ])\n",
        "\n",
        "pipeline_steps = [('preprocess', preprocessor),\n",
        "                  ('dense', DenseTransformer()),\n",
        "                  ]\n",
        "                  \n",
        "le = LabelEncoder()\n",
        "y_train = le.fit_transform(y_train)\n",
        "y_test = le.transform(y_test)"
      ]
    },
    {
      "cell_type": "markdown",
      "id": "wEusKiakMXGX",
      "metadata": {
        "id": "wEusKiakMXGX"
      },
      "source": [
        "### 3.1 Summary\n",
        "\n",
        "Here is what was done:\n",
        "\n",
        "1. New features were engineered from whether the words *'to'* & *'from'* are present in **transaction_description** but absent from **cleaned_description**. These two words are the most distinct in their **transaction_type** attribution.\n",
        "2. Categorical columns were parsed through an encoder.\n",
        "3. **Cleaned_description** texts were encoded as a bag of words vector.\n",
        "4. **Transaction_type** labels were encoded into a binary representation.\n",
        "5. Pipeline transformations will be applied to the train and test sets independently to prevent data leakage."
      ]
    },
    {
      "cell_type": "markdown",
      "id": "r6O5KA66nM87",
      "metadata": {
        "id": "r6O5KA66nM87"
      },
      "source": [
        "## 4. Model Selection\n",
        "---"
      ]
    },
    {
      "cell_type": "markdown",
      "id": "kou34H2lcS98",
      "metadata": {
        "id": "kou34H2lcS98"
      },
      "source": [
        "### 4.1 Model Selection"
      ]
    },
    {
      "cell_type": "code",
      "execution_count": null,
      "id": "W-KQJQLh19in",
      "metadata": {
        "id": "W-KQJQLh19in"
      },
      "outputs": [],
      "source": [
        "class EvaluateClassifier():\n",
        "    '''\n",
        "    Cross-validates pipeline-compatible estimators using an initialized dataset and pipeline\n",
        "    '''\n",
        "    def __init__(self, steps, X_train, y_train):\n",
        "        self.steps = steps\n",
        "        self.X_train = X_train\n",
        "        self.y_train = y_train\n",
        "\n",
        "    def evaluate(self, model):\n",
        "        base_clf = Pipeline(steps=self.steps + [('classifier', model)])\n",
        "        scores = cross_val_score(base_clf, self.X_train, self.y_train, cv=10)\n",
        "\n",
        "        return str(model.__class__()), np.mean(scores)"
      ]
    },
    {
      "cell_type": "code",
      "execution_count": null,
      "id": "oTXROIm42X5S",
      "metadata": {
        "colab": {
          "base_uri": "https://localhost:8080/",
          "height": 49,
          "referenced_widgets": [
            "f9dd521fd4224b87afbe7f017ab57263",
            "dd526a2a08c047438616c62c2d2aa7ca",
            "9685afeac04d49369bea54b957f77718",
            "ff4a42c550a84ddca09c09c494937b79",
            "e0eb6d0bf8d64fe29985bc65b98b131d",
            "491442c986ee45cb98bb0425c11e6b30",
            "ffe9ae9a2f354ab4ab31ea997971c7d4",
            "fa686fb89e454665aaf3c53c5e041141",
            "2f817da616cd47169c7ed69399831791",
            "20e4967fb9044c488106ed130cca5dbe",
            "f08b18b19cca405594bcbb4c92cb6901"
          ]
        },
        "id": "oTXROIm42X5S",
        "outputId": "3267f786-338d-4d83-f2a1-aa3aa45b3e66"
      },
      "outputs": [
        {
          "data": {
            "application/vnd.jupyter.widget-view+json": {
              "model_id": "f9dd521fd4224b87afbe7f017ab57263",
              "version_major": 2,
              "version_minor": 0
            },
            "text/plain": [
              "  0%|          | 0/8 [00:00<?, ?it/s]"
            ]
          },
          "metadata": {},
          "output_type": "display_data"
        }
      ],
      "source": [
        "# Define and evaulate a suite of classifier\n",
        "models = [KNeighborsClassifier(1),\n",
        "          LogisticRegression(random_state=SEED),\n",
        "          LinearSVC(random_state=SEED),\n",
        "          DecisionTreeClassifier(random_state=SEED),\n",
        "          RandomForestClassifier(random_state=SEED),\n",
        "          MLPClassifier(random_state=SEED,learning_rate='adaptive'),\n",
        "          XGBClassifier(random_state=SEED,max_depth=8),\n",
        "          SVC(random_state=SEED),\n",
        "          ]\n",
        "\n",
        "eclf = EvaluateClassifier(pipeline_steps, X_train, y_train)\n",
        "trials = [eclf.evaluate(model) for model in tqdm(models)]\n",
        "trials = sorted(trials, key=lambda x: x[1], reverse=True)"
      ]
    },
    {
      "cell_type": "code",
      "execution_count": null,
      "id": "hYbbfdrCNqAx",
      "metadata": {
        "colab": {
          "base_uri": "https://localhost:8080/",
          "height": 873
        },
        "id": "hYbbfdrCNqAx",
        "outputId": "54fb28fa-b353-4b00-f975-f0c59b934852"
      },
      "outputs": [
        {
          "data": {
            "image/png": "[encoded data removed]",
            "text/plain": [
              "<Figure size 720x864 with 1 Axes>"
            ]
          },
          "metadata": {
            "needs_background": "light"
          },
          "output_type": "display_data"
        }
      ],
      "source": [
        "# Plot performances of each classifier\n",
        "trials_df = pd.DataFrame(trials, columns=['Classifier', 'Score'])\n",
        "plt.figure(figsize=(10,12))\n",
        "fig = sns.barplot(data=trials_df, x='Score', y='Classifier', color=sns.color_palette()[2])\n",
        "for index, row in trials_df.iterrows():\n",
        "    fig.text(row.Score, index, round(row.Score, 3), color='black', ha=\"right\")\n",
        "plt.title('Model Performances', fontsize=20)\n",
        "plt.tight_layout()\n",
        "plt.show()"
      ]
    },
    {
      "cell_type": "markdown",
      "id": "RI0mIp2IcX5l",
      "metadata": {
        "id": "RI0mIp2IcX5l"
      },
      "source": [
        "#### 4.1.1 Summary\n",
        "\n",
        "Here is what was done:\n",
        "\n",
        "1. *Choose LinearSVC as our model*: LinearSVC and LogisticRegression were the best performing models. LogisticRegression is more prone to overfitting so we will choose LinearSVC. LinearSVC also performed with an acceptable time.\n",
        "\n",
        "2. *Cross-validation split*: to minimise overfitting due to the small dataset and apply the same validation pipeline to each model.\n",
        "\n",
        "1. *Minor hyperparameter tuning*: methods have not been thoroughly recorded as it was manually completed to remove limiting parameters."
      ]
    },
    {
      "cell_type": "markdown",
      "id": "EjL7UDT2Goql",
      "metadata": {
        "id": "EjL7UDT2Goql"
      },
      "source": [
        "### 4.2 Model training and reporting\n"
      ]
    },
    {
      "cell_type": "code",
      "execution_count": null,
      "id": "SF7FuGf-1-zC",
      "metadata": {
        "colab": {
          "base_uri": "https://localhost:8080/",
          "height": 264
        },
        "id": "SF7FuGf-1-zC",
        "outputId": "951a6d62-5d38-4519-9a83-6c8d405e27fb"
      },
      "outputs": [
        {
          "data": {
            "text/html": [
              "<style>#sk-14e28801-e86b-4baf-868a-8c799a8f1414 {color: black;background-color: white;}#sk-14e28801-e86b-4baf-868a-8c799a8f1414 pre{padding: 0;}#sk-14e28801-e86b-4baf-868a-8c799a8f1414 div.sk-toggleable {background-color: white;}#sk-14e28801-e86b-4baf-868a-8c799a8f1414 label.sk-toggleable__label {cursor: pointer;display: block;width: 100%;margin-bottom: 0;padding: 0.3em;box-sizing: border-box;text-align: center;}#sk-14e28801-e86b-4baf-868a-8c799a8f1414 div.sk-toggleable__content {max-height: 0;max-width: 0;overflow: hidden;text-align: left;background-color: #f0f8ff;}#sk-14e28801-e86b-4baf-868a-8c799a8f1414 div.sk-toggleable__content pre {margin: 0.2em;color: black;border-radius: 0.25em;background-color: #f0f8ff;}#sk-14e28801-e86b-4baf-868a-8c799a8f1414 input.sk-toggleable__control:checked~div.sk-toggleable__content {max-height: 200px;max-width: 100%;overflow: auto;}#sk-14e28801-e86b-4baf-868a-8c799a8f1414 div.sk-estimator input.sk-toggleable__control:checked~label.sk-toggleable__label {background-color: #d4ebff;}#sk-14e28801-e86b-4baf-868a-8c799a8f1414 div.sk-label input.sk-toggleable__control:checked~label.sk-toggleable__label {background-color: #d4ebff;}#sk-14e28801-e86b-4baf-868a-8c799a8f1414 input.sk-hidden--visually {border: 0;clip: rect(1px 1px 1px 1px);clip: rect(1px, 1px, 1px, 1px);height: 1px;margin: -1px;overflow: hidden;padding: 0;position: absolute;width: 1px;}#sk-14e28801-e86b-4baf-868a-8c799a8f1414 div.sk-estimator {font-family: monospace;background-color: #f0f8ff;border: 1px dotted black;border-radius: 0.25em;box-sizing: border-box;margin-bottom: 0.5em;}#sk-14e28801-e86b-4baf-868a-8c799a8f1414 div.sk-estimator:hover {background-color: #d4ebff;}#sk-14e28801-e86b-4baf-868a-8c799a8f1414 div.sk-parallel-item::after {content: \"\";width: 100%;border-bottom: 1px solid gray;flex-grow: 1;}#sk-14e28801-e86b-4baf-868a-8c799a8f1414 div.sk-label:hover label.sk-toggleable__label {background-color: #d4ebff;}#sk-14e28801-e86b-4baf-868a-8c799a8f1414 div.sk-serial::before {content: \"\";position: absolute;border-left: 1px solid gray;box-sizing: border-box;top: 2em;bottom: 0;left: 50%;}#sk-14e28801-e86b-4baf-868a-8c799a8f1414 div.sk-serial {display: flex;flex-direction: column;align-items: center;background-color: white;padding-right: 0.2em;padding-left: 0.2em;}#sk-14e28801-e86b-4baf-868a-8c799a8f1414 div.sk-item {z-index: 1;}#sk-14e28801-e86b-4baf-868a-8c799a8f1414 div.sk-parallel {display: flex;align-items: stretch;justify-content: center;background-color: white;}#sk-14e28801-e86b-4baf-868a-8c799a8f1414 div.sk-parallel::before {content: \"\";position: absolute;border-left: 1px solid gray;box-sizing: border-box;top: 2em;bottom: 0;left: 50%;}#sk-14e28801-e86b-4baf-868a-8c799a8f1414 div.sk-parallel-item {display: flex;flex-direction: column;position: relative;background-color: white;}#sk-14e28801-e86b-4baf-868a-8c799a8f1414 div.sk-parallel-item:first-child::after {align-self: flex-end;width: 50%;}#sk-14e28801-e86b-4baf-868a-8c799a8f1414 div.sk-parallel-item:last-child::after {align-self: flex-start;width: 50%;}#sk-14e28801-e86b-4baf-868a-8c799a8f1414 div.sk-parallel-item:only-child::after {width: 0;}#sk-14e28801-e86b-4baf-868a-8c799a8f1414 div.sk-dashed-wrapped {border: 1px dashed gray;margin: 0 0.4em 0.5em 0.4em;box-sizing: border-box;padding-bottom: 0.4em;background-color: white;position: relative;}#sk-14e28801-e86b-4baf-868a-8c799a8f1414 div.sk-label label {font-family: monospace;font-weight: bold;background-color: white;display: inline-block;line-height: 1.2em;}#sk-14e28801-e86b-4baf-868a-8c799a8f1414 div.sk-label-container {position: relative;z-index: 2;text-align: center;}#sk-14e28801-e86b-4baf-868a-8c799a8f1414 div.sk-container {display: inline-block;position: relative;}</style><div id=\"sk-14e28801-e86b-4baf-868a-8c799a8f1414\" class\"sk-top-container\"><div class=\"sk-container\"><div class=\"sk-item sk-dashed-wrapped\"><div class=\"sk-label-container\"><div class=\"sk-label sk-toggleable\"><input class=\"sk-toggleable__control sk-hidden--visually\" id=\"0c1b2599-d757-47ce-b624-4a422c8e55c2\" type=\"checkbox\" ><label class=\"sk-toggleable__label\" for=\"0c1b2599-d757-47ce-b624-4a422c8e55c2\">GridSearchCV</label><div class=\"sk-toggleable__content\"><pre>GridSearchCV(cv=10,\n",
              "             estimator=Pipeline(steps=[('preprocess',\n",
              "                                        ColumnTransformer(transformers=[('text',\n",
              "                                                                         CountVectorizer(binary=True),\n",
              "                                                                         'description_cleaned'),\n",
              "                                                                        ('type',\n",
              "                                                                         OneHotEncoder(handle_unknown='ignore'),\n",
              "                                                                         ['transaction_account_type',\n",
              "                                                                          'transaction_class']),\n",
              "                                                                        ('pass',\n",
              "                                                                         'passthrough',\n",
              "                                                                         ['to_present',\n",
              "                                                                          'from_present'])])),\n",
              "                                       ('dense',\n",
              "                                        <__main__.DenseTransformer object at 0x7f83c5f75750>),\n",
              "                                       ('classifier',\n",
              "                                        CalibratedClassifierCV(base_estimator=LinearSVC(random_state=1)))]),\n",
              "             n_jobs=-1,\n",
              "             param_grid={'classifier__base_estimator__C': (0.6, 0.8, 1, 1.2),\n",
              "                         'classifier__base_estimator__dual': (True, False),\n",
              "                         'classifier__base_estimator__tol': (0.1, 0.01, 0.001,\n",
              "                                                             0.0001)})</pre></div></div></div><div class=\"sk-parallel\"><div class=\"sk-parallel-item\"><div class=\"sk-item\"><div class=\"sk-serial\"><div class=\"sk-item\"><div class=\"sk-serial\"><div class=\"sk-item sk-dashed-wrapped\"><div class=\"sk-label-container\"><div class=\"sk-label sk-toggleable\"><input class=\"sk-toggleable__control sk-hidden--visually\" id=\"bd8df0d1-fb3a-46bc-ab92-ac65b519ce9f\" type=\"checkbox\" ><label class=\"sk-toggleable__label\" for=\"bd8df0d1-fb3a-46bc-ab92-ac65b519ce9f\">preprocess: ColumnTransformer</label><div class=\"sk-toggleable__content\"><pre>ColumnTransformer(transformers=[('text', CountVectorizer(binary=True),\n",
              "                                 'description_cleaned'),\n",
              "                                ('type', OneHotEncoder(handle_unknown='ignore'),\n",
              "                                 ['transaction_account_type',\n",
              "                                  'transaction_class']),\n",
              "                                ('pass', 'passthrough',\n",
              "                                 ['to_present', 'from_present'])])</pre></div></div></div><div class=\"sk-parallel\"><div class=\"sk-parallel-item\"><div class=\"sk-item\"><div class=\"sk-label-container\"><div class=\"sk-label sk-toggleable\"><input class=\"sk-toggleable__control sk-hidden--visually\" id=\"f4474618-6e89-414d-8851-6dadc57c9e50\" type=\"checkbox\" ><label class=\"sk-toggleable__label\" for=\"f4474618-6e89-414d-8851-6dadc57c9e50\">text</label><div class=\"sk-toggleable__content\"><pre>description_cleaned</pre></div></div></div><div class=\"sk-serial\"><div class=\"sk-item\"><div class=\"sk-estimator sk-toggleable\"><input class=\"sk-toggleable__control sk-hidden--visually\" id=\"64ff0e8d-6e49-44ab-9359-d894a8f6918f\" type=\"checkbox\" ><label class=\"sk-toggleable__label\" for=\"64ff0e8d-6e49-44ab-9359-d894a8f6918f\">CountVectorizer</label><div class=\"sk-toggleable__content\"><pre>CountVectorizer(binary=True)</pre></div></div></div></div></div></div><div class=\"sk-parallel-item\"><div class=\"sk-item\"><div class=\"sk-label-container\"><div class=\"sk-label sk-toggleable\"><input class=\"sk-toggleable__control sk-hidden--visually\" id=\"c502a531-52fe-451e-902b-37739d8fbbdd\" type=\"checkbox\" ><label class=\"sk-toggleable__label\" for=\"c502a531-52fe-451e-902b-37739d8fbbdd\">type</label><div class=\"sk-toggleable__content\"><pre>['transaction_account_type', 'transaction_class']</pre></div></div></div><div class=\"sk-serial\"><div class=\"sk-item\"><div class=\"sk-estimator sk-toggleable\"><input class=\"sk-toggleable__control sk-hidden--visually\" id=\"8bf1919a-26e1-47b1-90c1-9b5880d7131b\" type=\"checkbox\" ><label class=\"sk-toggleable__label\" for=\"8bf1919a-26e1-47b1-90c1-9b5880d7131b\">OneHotEncoder</label><div class=\"sk-toggleable__content\"><pre>OneHotEncoder(handle_unknown='ignore')</pre></div></div></div></div></div></div><div class=\"sk-parallel-item\"><div class=\"sk-item\"><div class=\"sk-label-container\"><div class=\"sk-label sk-toggleable\"><input class=\"sk-toggleable__control sk-hidden--visually\" id=\"ab3aa4d1-a68f-4c91-98d0-820bd0d8735d\" type=\"checkbox\" ><label class=\"sk-toggleable__label\" for=\"ab3aa4d1-a68f-4c91-98d0-820bd0d8735d\">pass</label><div class=\"sk-toggleable__content\"><pre>['to_present', 'from_present']</pre></div></div></div><div class=\"sk-serial\"><div class=\"sk-item\"><div class=\"sk-estimator sk-toggleable\"><input class=\"sk-toggleable__control sk-hidden--visually\" id=\"41e3f15b-b5a9-4c18-8c01-aaf1705983fe\" type=\"checkbox\" ><label class=\"sk-toggleable__label\" for=\"41e3f15b-b5a9-4c18-8c01-aaf1705983fe\">passthrough</label><div class=\"sk-toggleable__content\"><pre>passthrough</pre></div></div></div></div></div></div></div></div><div class=\"sk-item\"><div class=\"sk-estimator sk-toggleable\"><input class=\"sk-toggleable__control sk-hidden--visually\" id=\"e63e81ae-297e-4c83-908d-30129f971d21\" type=\"checkbox\" ><label class=\"sk-toggleable__label\" for=\"e63e81ae-297e-4c83-908d-30129f971d21\">DenseTransformer</label><div class=\"sk-toggleable__content\"><pre><__main__.DenseTransformer object at 0x7f83c5f75750></pre></div></div></div><div class=\"sk-item sk-dashed-wrapped\"><div class=\"sk-label-container\"><div class=\"sk-label sk-toggleable\"><input class=\"sk-toggleable__control sk-hidden--visually\" id=\"9853ae6c-03d4-4f5e-ba9b-9dea907ed9f8\" type=\"checkbox\" ><label class=\"sk-toggleable__label\" for=\"9853ae6c-03d4-4f5e-ba9b-9dea907ed9f8\">classifier: CalibratedClassifierCV</label><div class=\"sk-toggleable__content\"><pre>CalibratedClassifierCV(base_estimator=LinearSVC(random_state=1))</pre></div></div></div><div class=\"sk-parallel\"><div class=\"sk-parallel-item\"><div class=\"sk-item\"><div class=\"sk-serial\"><div class=\"sk-item\"><div class=\"sk-estimator sk-toggleable\"><input class=\"sk-toggleable__control sk-hidden--visually\" id=\"e507f1cf-f6a5-48b6-b91a-29c5f1769e0b\" type=\"checkbox\" ><label class=\"sk-toggleable__label\" for=\"e507f1cf-f6a5-48b6-b91a-29c5f1769e0b\">LinearSVC</label><div class=\"sk-toggleable__content\"><pre>LinearSVC(random_state=1)</pre></div></div></div></div></div></div></div></div></div></div></div></div></div></div></div></div></div>"
            ],
            "text/plain": [
              "GridSearchCV(cv=10,\n",
              "             estimator=Pipeline(steps=[('preprocess',\n",
              "                                        ColumnTransformer(transformers=[('text',\n",
              "                                                                         CountVectorizer(binary=True),\n",
              "                                                                         'description_cleaned'),\n",
              "                                                                        ('type',\n",
              "                                                                         OneHotEncoder(handle_unknown='ignore'),\n",
              "                                                                         ['transaction_account_type',\n",
              "                                                                          'transaction_class']),\n",
              "                                                                        ('pass',\n",
              "                                                                         'passthrough',\n",
              "                                                                         ['to_present',\n",
              "                                                                          'from_present'])])),\n",
              "                                       ('dense',\n",
              "                                        <__main__.DenseTransformer object at 0x7f83c5f75750>),\n",
              "                                       ('classifier',\n",
              "                                        CalibratedClassifierCV(base_estimator=LinearSVC(random_state=1)))]),\n",
              "             n_jobs=-1,\n",
              "             param_grid={'classifier__base_estimator__C': (0.6, 0.8, 1, 1.2),\n",
              "                         'classifier__base_estimator__dual': (True, False),\n",
              "                         'classifier__base_estimator__tol': (0.1, 0.01, 0.001,\n",
              "                                                             0.0001)})"
            ]
          },
          "execution_count": 28,
          "metadata": {},
          "output_type": "execute_result"
        }
      ],
      "source": [
        "# Create a tuning experiment\n",
        "parameters = {'classifier__base_estimator__tol':(1e-1, 1e-2, 1e-3, 1e-4),\n",
        "              'classifier__base_estimator__C':(0.6, 0.8, 1, 1.2),\n",
        "              'classifier__base_estimator__dual':(True, False),\n",
        "              }\n",
        "clf = CalibratedClassifierCV(LinearSVC(random_state=SEED))\n",
        "sv_clf = Pipeline(steps=pipeline_steps + [('classifier', clf)])\n",
        "\n",
        "grid_clf = GridSearchCV(sv_clf, parameters, n_jobs=-1, cv=10)\n",
        "grid_clf.fit(X_train, y_train)"
      ]
    },
    {
      "cell_type": "code",
      "execution_count": null,
      "id": "IZ835S30RqVW",
      "metadata": {
        "colab": {
          "base_uri": "https://localhost:8080/"
        },
        "id": "IZ835S30RqVW",
        "outputId": "5310d0cd-4bef-43ad-ac8f-a24a8e170c8c"
      },
      "outputs": [
        {
          "name": "stdout",
          "output_type": "stream",
          "text": [
            "{'classifier__base_estimator__C': 0.6, 'classifier__base_estimator__dual': True, 'classifier__base_estimator__tol': 0.1}\n"
          ]
        }
      ],
      "source": [
        "# Create pipeline with optimal parameters\n",
        "sv_clf = sv_clf.set_params(**grid_clf.best_params_)\n",
        "print(grid_clf.best_params_)"
      ]
    },
    {
      "cell_type": "code",
      "execution_count": null,
      "id": "EUFPVq0b-qi5",
      "metadata": {
        "colab": {
          "base_uri": "https://localhost:8080/"
        },
        "id": "EUFPVq0b-qi5",
        "outputId": "269fc595-4678-40de-b7ee-976a073a2ddf"
      },
      "outputs": [
        {
          "data": {
            "text/plain": [
              "fit_time       0.065644\n",
              "score_time     0.014056\n",
              "test_score     0.984659\n",
              "train_score    0.996950\n",
              "dtype: float64"
            ]
          },
          "execution_count": 30,
          "metadata": {},
          "output_type": "execute_result"
        }
      ],
      "source": [
        "# Measure average training metrics\n",
        "sv_scores = cross_validate(sv_clf, X_train, y_train, cv=10, return_train_score=True, return_estimator=True)\n",
        "sv_models = sv_scores.pop('estimator')\n",
        "pd.DataFrame(sv_scores).mean()"
      ]
    },
    {
      "cell_type": "code",
      "execution_count": null,
      "id": "BjeV4Ax-C912",
      "metadata": {
        "id": "BjeV4Ax-C912"
      },
      "outputs": [],
      "source": [
        "# Test inference\n",
        "y_prob = np.zeros(y_test.shape[0])\n",
        "for model in sv_models:\n",
        "    y_prob += model.predict_proba(X_test)[:,1] / len(sv_models)\n",
        "y_pred = [int(prob >= 0.5) for prob in y_prob]"
      ]
    },
    {
      "cell_type": "code",
      "execution_count": null,
      "id": "MlD0xkyg075w",
      "metadata": {
        "colab": {
          "base_uri": "https://localhost:8080/",
          "height": 630
        },
        "id": "MlD0xkyg075w",
        "outputId": "8cf6322d-8a1e-4513-8b38-df4090281c0d"
      },
      "outputs": [
        {
          "data": {
            "image/png": "[encoded data removed]",
            "text/plain": [
              "<Figure size 1008x720 with 2 Axes>"
            ]
          },
          "metadata": {
            "needs_background": "light"
          },
          "output_type": "display_data"
        }
      ],
      "source": [
        "# Plot classifier prediction confusion matrix\n",
        "plt.figure(figsize=(14,10))\n",
        "cm = confusion_matrix(y_test, y_pred)\n",
        "fig = sns.heatmap(cm/cm.sum(), annot=True, fmt='0.1%', cmap=\"Blues\")\n",
        "fig.set_xticklabels(le.classes_)\n",
        "fig.set_yticklabels(le.classes_)\n",
        "fig.set_xlabel('Actual',fontsize=14)\n",
        "fig.set_ylabel('Predicted',fontsize=14)\n",
        "plt.title(\"Debit/Credit Confusion Matrix\",fontsize=20)\n",
        "plt.show()"
      ]
    },
    {
      "cell_type": "markdown",
      "id": "je-Py7LxuEOA",
      "metadata": {
        "id": "je-Py7LxuEOA"
      },
      "source": [
        "### 4.2.1 Summary\n",
        "\n",
        "Here is what was done:\n",
        "\n",
        "1. *Hyperparameter tuning*: using GridSearchCV\n",
        "\n",
        "2. *Cross-validate*: the model using a training data size of 328 samples, completed in 54ms\n",
        "\n",
        "3. Final test accuracy of the model is 96.3% using a test data size of 82 samples\n"
      ]
    },
    {
      "cell_type": "markdown",
      "id": "fGAgQ4yGnWT8",
      "metadata": {
        "id": "fGAgQ4yGnWT8"
      },
      "source": [
        "## 5. Operationalisation\n",
        "---"
      ]
    },
    {
      "cell_type": "markdown",
      "id": "n6LmjI5kU3rV",
      "metadata": {
        "id": "n6LmjI5kU3rV"
      },
      "source": [
        "There are a few assumptions to be made regarding the data pipeline and the contextual use case:\n",
        "\n",
        "1. The pipeline framework is cloud-based\n",
        "2. The users of the model include internal analysts and external clients\n",
        "3. We have access to a growing source of data\n",
        "4. There is no pre-existing deployment procedure to follow\n",
        "5. The product is not a real-time service\n",
        "\n",
        "The first step in deploying the model is to test its compatibility with the other data pipeline components. As there is no existing guideline to deploy the model, we need to create a minimal impact integration which will be a serverless function such as AWS Lambda. Cloud serverless functions can test the deployment compatibility with our existing methods to access cloud data and an API for users to interact with the model. At this stage, it is important to validate the purpose of the model with only internal users such as our analysts. This small-scale validation will ensure that changes in the model's functionality can be identified and fixed without impacting the client at an early stage.\n",
        "\n",
        "Once we have validated our model operation, we will shift our attention to the model pipeline. We will implement a one-off training process where a new model is trained using new labelled production data on an iterative basis. All trained models will be stored in a model registry with the newest functional model as the serving model. In the future, we can create specialized models for different data groups and demographics.\n",
        "\n",
        "The next evolution of the deployment architecture should enable scaling and greater throughput capacity. AWS offers a managed Kubernetes Service to facilitate application management. We will use EKS for both the training and the serving processes of the model. When a prediction is requested by a client, data will be fetched from data sources and processed on nodes spun up to meet the capacity. Depending on the complexity, we can distribute workload by implementing ELT in the fetch process to create the features used for prediction. The model predictions will then be used to update the client data so when the user performs a request for the data, the application will serve the predictions from the datastore. \n",
        "\n",
        "The goals of monitoring models in production are:\n",
        "1. Detect problems early\n",
        "2. Ensure results are explainable and reportable\n",
        "3. Enable the capacity to improve\n",
        "\n",
        "We have already mentioned an aspect of how monitoring will be applied, which was through incremental deployment. We will start from a small group of internal users and progress to the end-users. With each version of the model, a controlled rollout will create an experiment with a small group of users to minimise problems. \n",
        "\n",
        "Metrics will be used to monitor models in production. The accuracy of model performance, while they are in production, is essential in determining the number of problems. For example, an accuracy disparity between the training, test, production dataset scores can indicate the need to improve the data or the way the data is preprocessed. \n",
        "\n",
        "Operational metrics including inference time, memory usage, latency, system uptime, cost, will all be indicators for whether there has been an improvement in the model's performance, and for detecting problems in the pipeline architecture. Alerts and thresholds are key countermeasures to ensure detectable problems do not go unnoticed. Thankfully, AWS and other cloud services provide such mentioned in-house solutions for every stage of the production model pipeline.\n",
        "\n",
        "Lastly, logging and metadata cataloguing is a critical procedure through the monitoring and deployment process. This will simply all the troubleshooting that will come in the future as well as provide a historical dimension to the metrics analysis. Some components that will be important to log are pipeline events, data, model metadata, model predictions and operational performances.\n"
      ]
    }
  ],
  "metadata": {
    "colab": {
      "collapsed_sections": [],
      "name": "Frollo Work Sample.ipynb",
      "provenance": []
    },
    "kernelspec": {
      "display_name": "Python 3",
      "language": "python",
      "name": "python3"
    },
    "language_info": {
      "codemirror_mode": {
        "name": "ipython",
        "version": 3
      },
      "file_extension": ".py",
      "mimetype": "text/x-python",
      "name": "python",
      "nbconvert_exporter": "python",
      "pygments_lexer": "ipython3",
      "version": "3.8.8"
    },
    "widgets": {
      "application/vnd.jupyter.widget-state+json": {
        "20e4967fb9044c488106ed130cca5dbe": {
          "model_module": "@jupyter-widgets/controls",
          "model_module_version": "1.5.0",
          "model_name": "DescriptionStyleModel",
          "state": {
            "_model_module": "@jupyter-widgets/controls",
            "_model_module_version": "1.5.0",
            "_model_name": "DescriptionStyleModel",
            "_view_count": null,
            "_view_module": "@jupyter-widgets/base",
            "_view_module_version": "1.2.0",
            "_view_name": "StyleView",
            "description_width": ""
          }
        },
        "2f817da616cd47169c7ed69399831791": {
          "model_module": "@jupyter-widgets/base",
          "model_module_version": "1.2.0",
          "model_name": "LayoutModel",
          "state": {
            "_model_module": "@jupyter-widgets/base",
            "_model_module_version": "1.2.0",
            "_model_name": "LayoutModel",
            "_view_count": null,
            "_view_module": "@jupyter-widgets/base",
            "_view_module_version": "1.2.0",
            "_view_name": "LayoutView",
            "align_content": null,
            "align_items": null,
            "align_self": null,
            "border": null,
            "bottom": null,
            "display": null,
            "flex": null,
            "flex_flow": null,
            "grid_area": null,
            "grid_auto_columns": null,
            "grid_auto_flow": null,
            "grid_auto_rows": null,
            "grid_column": null,
            "grid_gap": null,
            "grid_row": null,
            "grid_template_areas": null,
            "grid_template_columns": null,
            "grid_template_rows": null,
            "height": null,
            "justify_content": null,
            "justify_items": null,
            "left": null,
            "margin": null,
            "max_height": null,
            "max_width": null,
            "min_height": null,
            "min_width": null,
            "object_fit": null,
            "object_position": null,
            "order": null,
            "overflow": null,
            "overflow_x": null,
            "overflow_y": null,
            "padding": null,
            "right": null,
            "top": null,
            "visibility": null,
            "width": null
          }
        },
        "491442c986ee45cb98bb0425c11e6b30": {
          "model_module": "@jupyter-widgets/controls",
          "model_module_version": "1.5.0",
          "model_name": "DescriptionStyleModel",
          "state": {
            "_model_module": "@jupyter-widgets/controls",
            "_model_module_version": "1.5.0",
            "_model_name": "DescriptionStyleModel",
            "_view_count": null,
            "_view_module": "@jupyter-widgets/base",
            "_view_module_version": "1.2.0",
            "_view_name": "StyleView",
            "description_width": ""
          }
        },
        "9685afeac04d49369bea54b957f77718": {
          "model_module": "@jupyter-widgets/controls",
          "model_module_version": "1.5.0",
          "model_name": "HTMLModel",
          "state": {
            "_dom_classes": [],
            "_model_module": "@jupyter-widgets/controls",
            "_model_module_version": "1.5.0",
            "_model_name": "HTMLModel",
            "_view_count": null,
            "_view_module": "@jupyter-widgets/controls",
            "_view_module_version": "1.5.0",
            "_view_name": "HTMLView",
            "description": "",
            "description_tooltip": null,
            "layout": "IPY_MODEL_ffe9ae9a2f354ab4ab31ea997971c7d4",
            "placeholder": "​",
            "style": "IPY_MODEL_491442c986ee45cb98bb0425c11e6b30",
            "value": "100%"
          }
        },
        "dd526a2a08c047438616c62c2d2aa7ca": {
          "model_module": "@jupyter-widgets/base",
          "model_module_version": "1.2.0",
          "model_name": "LayoutModel",
          "state": {
            "_model_module": "@jupyter-widgets/base",
            "_model_module_version": "1.2.0",
            "_model_name": "LayoutModel",
            "_view_count": null,
            "_view_module": "@jupyter-widgets/base",
            "_view_module_version": "1.2.0",
            "_view_name": "LayoutView",
            "align_content": null,
            "align_items": null,
            "align_self": null,
            "border": null,
            "bottom": null,
            "display": null,
            "flex": null,
            "flex_flow": null,
            "grid_area": null,
            "grid_auto_columns": null,
            "grid_auto_flow": null,
            "grid_auto_rows": null,
            "grid_column": null,
            "grid_gap": null,
            "grid_row": null,
            "grid_template_areas": null,
            "grid_template_columns": null,
            "grid_template_rows": null,
            "height": null,
            "justify_content": null,
            "justify_items": null,
            "left": null,
            "margin": null,
            "max_height": null,
            "max_width": null,
            "min_height": null,
            "min_width": null,
            "object_fit": null,
            "object_position": null,
            "order": null,
            "overflow": null,
            "overflow_x": null,
            "overflow_y": null,
            "padding": null,
            "right": null,
            "top": null,
            "visibility": null,
            "width": null
          }
        },
        "e0eb6d0bf8d64fe29985bc65b98b131d": {
          "model_module": "@jupyter-widgets/controls",
          "model_module_version": "1.5.0",
          "model_name": "HTMLModel",
          "state": {
            "_dom_classes": [],
            "_model_module": "@jupyter-widgets/controls",
            "_model_module_version": "1.5.0",
            "_model_name": "HTMLModel",
            "_view_count": null,
            "_view_module": "@jupyter-widgets/controls",
            "_view_module_version": "1.5.0",
            "_view_name": "HTMLView",
            "description": "",
            "description_tooltip": null,
            "layout": "IPY_MODEL_f08b18b19cca405594bcbb4c92cb6901",
            "placeholder": "​",
            "style": "IPY_MODEL_20e4967fb9044c488106ed130cca5dbe",
            "value": " 8/8 [00:25&lt;00:00,  4.18s/it]"
          }
        },
        "f08b18b19cca405594bcbb4c92cb6901": {
          "model_module": "@jupyter-widgets/base",
          "model_module_version": "1.2.0",
          "model_name": "LayoutModel",
          "state": {
            "_model_module": "@jupyter-widgets/base",
            "_model_module_version": "1.2.0",
            "_model_name": "LayoutModel",
            "_view_count": null,
            "_view_module": "@jupyter-widgets/base",
            "_view_module_version": "1.2.0",
            "_view_name": "LayoutView",
            "align_content": null,
            "align_items": null,
            "align_self": null,
            "border": null,
            "bottom": null,
            "display": null,
            "flex": null,
            "flex_flow": null,
            "grid_area": null,
            "grid_auto_columns": null,
            "grid_auto_flow": null,
            "grid_auto_rows": null,
            "grid_column": null,
            "grid_gap": null,
            "grid_row": null,
            "grid_template_areas": null,
            "grid_template_columns": null,
            "grid_template_rows": null,
            "height": null,
            "justify_content": null,
            "justify_items": null,
            "left": null,
            "margin": null,
            "max_height": null,
            "max_width": null,
            "min_height": null,
            "min_width": null,
            "object_fit": null,
            "object_position": null,
            "order": null,
            "overflow": null,
            "overflow_x": null,
            "overflow_y": null,
            "padding": null,
            "right": null,
            "top": null,
            "visibility": null,
            "width": null
          }
        },
        "f9dd521fd4224b87afbe7f017ab57263": {
          "model_module": "@jupyter-widgets/controls",
          "model_module_version": "1.5.0",
          "model_name": "HBoxModel",
          "state": {
            "_dom_classes": [],
            "_model_module": "@jupyter-widgets/controls",
            "_model_module_version": "1.5.0",
            "_model_name": "HBoxModel",
            "_view_count": null,
            "_view_module": "@jupyter-widgets/controls",
            "_view_module_version": "1.5.0",
            "_view_name": "HBoxView",
            "box_style": "",
            "children": [
              "IPY_MODEL_9685afeac04d49369bea54b957f77718",
              "IPY_MODEL_ff4a42c550a84ddca09c09c494937b79",
              "IPY_MODEL_e0eb6d0bf8d64fe29985bc65b98b131d"
            ],
            "layout": "IPY_MODEL_dd526a2a08c047438616c62c2d2aa7ca"
          }
        },
        "fa686fb89e454665aaf3c53c5e041141": {
          "model_module": "@jupyter-widgets/controls",
          "model_module_version": "1.5.0",
          "model_name": "ProgressStyleModel",
          "state": {
            "_model_module": "@jupyter-widgets/controls",
            "_model_module_version": "1.5.0",
            "_model_name": "ProgressStyleModel",
            "_view_count": null,
            "_view_module": "@jupyter-widgets/base",
            "_view_module_version": "1.2.0",
            "_view_name": "StyleView",
            "bar_color": null,
            "description_width": ""
          }
        },
        "ff4a42c550a84ddca09c09c494937b79": {
          "model_module": "@jupyter-widgets/controls",
          "model_module_version": "1.5.0",
          "model_name": "FloatProgressModel",
          "state": {
            "_dom_classes": [],
            "_model_module": "@jupyter-widgets/controls",
            "_model_module_version": "1.5.0",
            "_model_name": "FloatProgressModel",
            "_view_count": null,
            "_view_module": "@jupyter-widgets/controls",
            "_view_module_version": "1.5.0",
            "_view_name": "ProgressView",
            "bar_style": "success",
            "description": "",
            "description_tooltip": null,
            "layout": "IPY_MODEL_2f817da616cd47169c7ed69399831791",
            "max": 8,
            "min": 0,
            "orientation": "horizontal",
            "style": "IPY_MODEL_fa686fb89e454665aaf3c53c5e041141",
            "value": 8
          }
        },
        "ffe9ae9a2f354ab4ab31ea997971c7d4": {
          "model_module": "@jupyter-widgets/base",
          "model_module_version": "1.2.0",
          "model_name": "LayoutModel",
          "state": {
            "_model_module": "@jupyter-widgets/base",
            "_model_module_version": "1.2.0",
            "_model_name": "LayoutModel",
            "_view_count": null,
            "_view_module": "@jupyter-widgets/base",
            "_view_module_version": "1.2.0",
            "_view_name": "LayoutView",
            "align_content": null,
            "align_items": null,
            "align_self": null,
            "border": null,
            "bottom": null,
            "display": null,
            "flex": null,
            "flex_flow": null,
            "grid_area": null,
            "grid_auto_columns": null,
            "grid_auto_flow": null,
            "grid_auto_rows": null,
            "grid_column": null,
            "grid_gap": null,
            "grid_row": null,
            "grid_template_areas": null,
            "grid_template_columns": null,
            "grid_template_rows": null,
            "height": null,
            "justify_content": null,
            "justify_items": null,
            "left": null,
            "margin": null,
            "max_height": null,
            "max_width": null,
            "min_height": null,
            "min_width": null,
            "object_fit": null,
            "object_position": null,
            "order": null,
            "overflow": null,
            "overflow_x": null,
            "overflow_y": null,
            "padding": null,
            "right": null,
            "top": null,
            "visibility": null,
            "width": null
          }
        }
      }
    }
  },
  "nbformat": 4,
  "nbformat_minor": 5
}
