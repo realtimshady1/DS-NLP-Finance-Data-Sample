{
 "cells": [
  {
   "cell_type": "markdown",
   "id": "dac53875",
   "metadata": {},
   "source": [
    "# Frollo Data Science Work Sample"
   ]
  },
  {
   "cell_type": "code",
   "execution_count": 71,
   "id": "bfacd2ea",
   "metadata": {},
   "outputs": [],
   "source": [
    "# Import Libraries\n",
    "import numpy as np\n",
    "import pandas as pd\n",
    "import seaborn as sns\n",
    "import matplotlib.pyplot as plt\n",
    "import altair as alt\n"
   ]
  },
  {
   "cell_type": "code",
   "execution_count": 17,
   "id": "42b0a1b6",
   "metadata": {},
   "outputs": [],
   "source": [
    "FILE_NAME = 'SampleData_Frollo_DSRecruitment_Public.csv'\n",
    "\n",
    "df = pd.read_csv(FILE_NAME)"
   ]
  },
  {
   "cell_type": "markdown",
   "id": "e67f2e26",
   "metadata": {},
   "source": [
    "## 1. Inspect Data"
   ]
  },
  {
   "cell_type": "code",
   "execution_count": 18,
   "id": "5bf2b629",
   "metadata": {},
   "outputs": [
    {
     "data": {
      "text/html": [
       "<div>\n",
       "<style scoped>\n",
       "    .dataframe tbody tr th:only-of-type {\n",
       "        vertical-align: middle;\n",
       "    }\n",
       "\n",
       "    .dataframe tbody tr th {\n",
       "        vertical-align: top;\n",
       "    }\n",
       "\n",
       "    .dataframe thead th {\n",
       "        text-align: right;\n",
       "    }\n",
       "</style>\n",
       "<table border=\"1\" class=\"dataframe\">\n",
       "  <thead>\n",
       "    <tr style=\"text-align: right;\">\n",
       "      <th></th>\n",
       "      <th>transaction_description</th>\n",
       "      <th>transaction_amount</th>\n",
       "      <th>transaction_account_type</th>\n",
       "      <th>transaction_class</th>\n",
       "      <th>description_cleaned</th>\n",
       "      <th>transaction_type</th>\n",
       "    </tr>\n",
       "  </thead>\n",
       "  <tbody>\n",
       "    <tr>\n",
       "      <th>12</th>\n",
       "      <td>INTERNET TRANSFER   Extras              OW J</td>\n",
       "      <td>149.05</td>\n",
       "      <td>savings</td>\n",
       "      <td>transfer</td>\n",
       "      <td>internet transfer extra</td>\n",
       "      <td>debit</td>\n",
       "    </tr>\n",
       "    <tr>\n",
       "      <th>93</th>\n",
       "      <td>ATM W/D NP-Caltex Ura-10:48</td>\n",
       "      <td>-70.00</td>\n",
       "      <td>transaction</td>\n",
       "      <td>cash-withdrawal</td>\n",
       "      <td>atm withdrawal caltex ura TIMETOKEN</td>\n",
       "      <td>credit</td>\n",
       "    </tr>\n",
       "    <tr>\n",
       "      <th>285</th>\n",
       "      <td>BUNNINGS 418000 WAURN PONDS AUS</td>\n",
       "      <td>-279.09</td>\n",
       "      <td>credit-card</td>\n",
       "      <td>payment</td>\n",
       "      <td>bunnings NUMBERTOKEN waurn pond</td>\n",
       "      <td>credit</td>\n",
       "    </tr>\n",
       "    <tr>\n",
       "      <th>14</th>\n",
       "      <td>Transfer from xx9156 NetBank thurs 13 dec</td>\n",
       "      <td>767.03</td>\n",
       "      <td>transaction</td>\n",
       "      <td>transfer</td>\n",
       "      <td>transfer netbank thurs dec</td>\n",
       "      <td>debit</td>\n",
       "    </tr>\n",
       "    <tr>\n",
       "      <th>380</th>\n",
       "      <td>POS W/D WOOLWORTHS 11-15:56</td>\n",
       "      <td>-22.80</td>\n",
       "      <td>transaction</td>\n",
       "      <td>payment</td>\n",
       "      <td>withdrawal woolworth TIMETOKEN</td>\n",
       "      <td>credit</td>\n",
       "    </tr>\n",
       "    <tr>\n",
       "      <th>75</th>\n",
       "      <td>ANZ M-BANKING FUNDS TFER TRANSFER 364389  TO  ...</td>\n",
       "      <td>-307.00</td>\n",
       "      <td>transaction</td>\n",
       "      <td>transfer</td>\n",
       "      <td>anz banking fund transfer transfer NUMBERTOKEN...</td>\n",
       "      <td>credit</td>\n",
       "    </tr>\n",
       "    <tr>\n",
       "      <th>405</th>\n",
       "      <td>WITHDRAWAL ONLINE 1527463 PYMT Matthew Gi WSB Kym</td>\n",
       "      <td>-20.00</td>\n",
       "      <td>transaction</td>\n",
       "      <td>cash-withdrawal</td>\n",
       "      <td>withdrawal online NUMBERTOKEN payment matthew ...</td>\n",
       "      <td>credit</td>\n",
       "    </tr>\n",
       "    <tr>\n",
       "      <th>22</th>\n",
       "      <td>Direct Debit 342120 Raiz Investment 6a5639c8b7...</td>\n",
       "      <td>-30.00</td>\n",
       "      <td>transaction</td>\n",
       "      <td>transfer</td>\n",
       "      <td>direct debit NUMBERTOKEN raiz investment 6a563...</td>\n",
       "      <td>credit</td>\n",
       "    </tr>\n",
       "    <tr>\n",
       "      <th>269</th>\n",
       "      <td>Everyday round up - Everyday round up - Receip...</td>\n",
       "      <td>-0.50</td>\n",
       "      <td>transaction</td>\n",
       "      <td>transfer</td>\n",
       "      <td>everyday round everyday round RECEIPTTOKEN car...</td>\n",
       "      <td>credit</td>\n",
       "    </tr>\n",
       "    <tr>\n",
       "      <th>132</th>\n",
       "      <td>adobe il creative cld visa refund receipt 5777...</td>\n",
       "      <td>0.15</td>\n",
       "      <td>transaction</td>\n",
       "      <td>refund</td>\n",
       "      <td>adobe creative cld visa refund RECEIPTTOKEN ad...</td>\n",
       "      <td>debit</td>\n",
       "    </tr>\n",
       "  </tbody>\n",
       "</table>\n",
       "</div>"
      ],
      "text/plain": [
       "                               transaction_description  transaction_amount  \\\n",
       "12        INTERNET TRANSFER   Extras              OW J              149.05   \n",
       "93                         ATM W/D NP-Caltex Ura-10:48              -70.00   \n",
       "285                    BUNNINGS 418000 WAURN PONDS AUS             -279.09   \n",
       "14           Transfer from xx9156 NetBank thurs 13 dec              767.03   \n",
       "380                        POS W/D WOOLWORTHS 11-15:56              -22.80   \n",
       "75   ANZ M-BANKING FUNDS TFER TRANSFER 364389  TO  ...             -307.00   \n",
       "405  WITHDRAWAL ONLINE 1527463 PYMT Matthew Gi WSB Kym              -20.00   \n",
       "22   Direct Debit 342120 Raiz Investment 6a5639c8b7...              -30.00   \n",
       "269  Everyday round up - Everyday round up - Receip...               -0.50   \n",
       "132  adobe il creative cld visa refund receipt 5777...                0.15   \n",
       "\n",
       "    transaction_account_type transaction_class  \\\n",
       "12                   savings          transfer   \n",
       "93               transaction   cash-withdrawal   \n",
       "285              credit-card           payment   \n",
       "14               transaction          transfer   \n",
       "380              transaction           payment   \n",
       "75               transaction          transfer   \n",
       "405              transaction   cash-withdrawal   \n",
       "22               transaction          transfer   \n",
       "269              transaction          transfer   \n",
       "132              transaction            refund   \n",
       "\n",
       "                                   description_cleaned transaction_type  \n",
       "12                            internet transfer extra             debit  \n",
       "93                 atm withdrawal caltex ura TIMETOKEN           credit  \n",
       "285                   bunnings NUMBERTOKEN waurn pond            credit  \n",
       "14                          transfer netbank thurs dec            debit  \n",
       "380                     withdrawal woolworth TIMETOKEN           credit  \n",
       "75   anz banking fund transfer transfer NUMBERTOKEN...           credit  \n",
       "405  withdrawal online NUMBERTOKEN payment matthew ...           credit  \n",
       "22   direct debit NUMBERTOKEN raiz investment 6a563...           credit  \n",
       "269  everyday round everyday round RECEIPTTOKEN car...           credit  \n",
       "132  adobe creative cld visa refund RECEIPTTOKEN ad...            debit  "
      ]
     },
     "execution_count": 18,
     "metadata": {},
     "output_type": "execute_result"
    }
   ],
   "source": [
    "df.sample(10)"
   ]
  },
  {
   "cell_type": "code",
   "execution_count": 23,
   "id": "73bdc9d1",
   "metadata": {},
   "outputs": [
    {
     "name": "stdout",
     "output_type": "stream",
     "text": [
      "Number of data samples: 410\n",
      "Number of data features: 6\n"
     ]
    }
   ],
   "source": [
    "print(f'Number of data samples: {df.shape[0]}')\n",
    "print(f'Number of data features: {df.shape[1]}')"
   ]
  },
  {
   "cell_type": "code",
   "execution_count": 28,
   "id": "5257b593",
   "metadata": {
    "scrolled": false
   },
   "outputs": [
    {
     "name": "stdout",
     "output_type": "stream",
     "text": [
      "Check for missing values\n",
      "\n",
      "transaction_description     0\n",
      "transaction_amount          0\n",
      "transaction_account_type    0\n",
      "transaction_class           0\n",
      "description_cleaned         0\n",
      "transaction_type            0\n",
      "dtype: int64\n"
     ]
    }
   ],
   "source": [
    "print('Check for missing values.\\n')\n",
    "print(df.isnull().sum())"
   ]
  },
  {
   "cell_type": "code",
   "execution_count": 38,
   "id": "6d27bf68",
   "metadata": {},
   "outputs": [
    {
     "name": "stdout",
     "output_type": "stream",
     "text": [
      "Check data types.\n",
      "\n",
      "transaction_description      object\n",
      "transaction_amount          float64\n",
      "transaction_account_type     object\n",
      "transaction_class            object\n",
      "description_cleaned          object\n",
      "transaction_type             object\n",
      "dtype: object\n"
     ]
    }
   ],
   "source": [
    "print('Check data types.\\n')\n",
    "print(df.dtypes)"
   ]
  },
  {
   "cell_type": "code",
   "execution_count": 42,
   "id": "26215ead",
   "metadata": {},
   "outputs": [
    {
     "name": "stdout",
     "output_type": "stream",
     "text": [
      "Check class categories.\n",
      "\n",
      "transaction_description     408\n",
      "transaction_amount          266\n",
      "transaction_account_type      6\n",
      "transaction_class             6\n",
      "description_cleaned         337\n",
      "transaction_type              2\n",
      "dtype: int64\n"
     ]
    }
   ],
   "source": [
    "print('Check class categories.\\n')\n",
    "print(df.nunique())"
   ]
  },
  {
   "cell_type": "markdown",
   "id": "b0cf5663",
   "metadata": {},
   "source": [
    "### 1.1 Summary\n",
    "\n",
    "From the preceeding inspection, we can conclude the following:\n",
    "- There are no missing values\n",
    "- The columns are correctly formatted\n",
    "\n",
    "We can procede with our analysis without any cleaning needed."
   ]
  },
  {
   "cell_type": "markdown",
   "id": "a09c1146",
   "metadata": {},
   "source": [
    "## 2. Data Profile"
   ]
  },
  {
   "cell_type": "code",
   "execution_count": 75,
   "id": "43de14a4",
   "metadata": {},
   "outputs": [
    {
     "data": {
      "image/png": "[encoded data removed]",
      "text/plain": [
       "<Figure size 360x360 with 1 Axes>"
      ]
     },
     "metadata": {
      "needs_background": "light"
     },
     "output_type": "display_data"
    }
   ],
   "source": [
    "fig = sns.displot(df.transaction_amount, bins=50, kde=True, alpha=0.5)"
   ]
  },
  {
   "cell_type": "code",
   "execution_count": 72,
   "id": "8815dea5",
   "metadata": {},
   "outputs": [],
   "source": [
    "charts = {}\n",
    "for i in ['transaction_account_type', 'transaction_class']:\n",
    "    feature_count = df[i].value_counts(dropna=False)[:40].reset_index().rename(columns={i: 'count', 'index': i})\n",
    "    chart = alt.Chart(feature_count).mark_bar().encode(\n",
    "                x=alt.X(f\"{i}:N\", axis=alt.Axis(title=i)),\n",
    "                y=alt.Y('count:Q', axis=alt.Axis(title='Count')),\n",
    "                tooltip=[i, 'count']\n",
    "            ).properties(title=f\"Counts of {i}\", width=800)\n",
    "    charts[i] = chart"
   ]
  }
 ],
 "metadata": {
  "kernelspec": {
   "display_name": "Python 3",
   "language": "python",
   "name": "python3"
  },
  "language_info": {
   "codemirror_mode": {
    "name": "ipython",
    "version": 3
   },
   "file_extension": ".py",
   "mimetype": "text/x-python",
   "name": "python",
   "nbconvert_exporter": "python",
   "pygments_lexer": "ipython3",
   "version": "3.8.8"
  }
 },
 "nbformat": 4,
 "nbformat_minor": 5
}
